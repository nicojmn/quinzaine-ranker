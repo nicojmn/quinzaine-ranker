{
 "cells": [
  {
   "cell_type": "markdown",
   "metadata": {},
   "source": [
    "# Code"
   ]
  },
  {
   "cell_type": "code",
   "execution_count": null,
   "metadata": {},
   "outputs": [],
   "source": [
    "import json\n",
    "import re\n",
    "import os\n",
    "import pandas as pd\n",
    "\n",
    "from typing import Union, List\n",
    "\n",
    "def firestore_to_json(value_dict):\n",
    "    if not isinstance(value_dict, dict):\n",
    "        return value_dict\n",
    "\n",
    "    for key, value in value_dict.items():\n",
    "        if key == \"stringValue\":\n",
    "            return value\n",
    "        elif key == \"integerValue\":\n",
    "            return int(value)\n",
    "        elif key == \"doubleValue\":\n",
    "            return float(value)\n",
    "        elif key == \"booleanValue\":\n",
    "            return value\n",
    "        elif key == \"nullValue\":\n",
    "            return None\n",
    "        elif key == \"timestampValue\":\n",
    "            return value\n",
    "        elif key == \"mapValue\":\n",
    "            if \"fields\" in value:\n",
    "                 return {f_key: firestore_to_json(f_val) for f_key, f_val in value[\"fields\"].items()}\n",
    "            else:\n",
    "                 return {}\n",
    "        elif key == \"arrayValue\":\n",
    "            if \"values\" in value:\n",
    "                return [firestore_to_json(item) for item in value[\"values\"]]\n",
    "            else:\n",
    "                return []\n",
    "        else:\n",
    "            return {key: value}\n",
    "    return None\n",
    "\n",
    "\n",
    "def rename_df(df : pd.DataFrame) -> pd.DataFrame:\n",
    "    columns = df.columns.tolist()\n",
    "    if \"price_out\" in columns:\n",
    "        df = df.rename(columns={'price_out': 'Price'})\n",
    "    if \"format\" in columns:\n",
    "        df = df.rename(columns={'format': 'Volume'})\n",
    "    for c in columns:\n",
    "        df = df.rename(columns={c: c.capitalize()})\n",
    "    return df\n",
    "\n",
    "\n",
    "def display_top(df: pd.DataFrame, n=20) -> pd.DataFrame:\n",
    "    out = df.copy()\n",
    "    out = out.reset_index(drop=True)\n",
    "    out.index.name = \"Rank\"\n",
    "    out.index = out.index + 1\n",
    "    return out.head(n)\n",
    "\n",
    "\n",
    "def parse(filename: str, columns_to_keep: List[str]) -> Union[pd.DataFrame, None]:\n",
    "    with open(filename, 'r', encoding=\"utf-8\") as file:\n",
    "        content = file.read()\n",
    "    \n",
    "    match = re.search(r'\\[2,\\s*\\[\\s*(\\{.*?\\})\\s*\\]\\s*\\]', content, re.DOTALL)\n",
    "\n",
    "    if match:\n",
    "        json_part_string = match.group(1)\n",
    "        try:\n",
    "            data = json.loads(json_part_string)\n",
    "\n",
    "            articles_firestore_map = data.get(\"documentChange\", {}) \\\n",
    "                                        .get(\"document\", {}) \\\n",
    "                                        .get(\"fields\", {}) \\\n",
    "                                        .get(\"articles\", {}) \\\n",
    "                                        .get(\"mapValue\", {}) \\\n",
    "                                        .get(\"fields\", {})\n",
    "\n",
    "            simplified_articles = {}\n",
    "\n",
    "            for article_id, article_data in articles_firestore_map.items():\n",
    "                if \"mapValue\" in article_data and \"fields\" in article_data[\"mapValue\"]:\n",
    "                    simplified_article_fields = {}\n",
    "                    for field_name, field_value_dict in article_data[\"mapValue\"][\"fields\"].items():\n",
    "                        simplified_article_fields[field_name] = firestore_to_json(field_value_dict)\n",
    "                    simplified_articles[article_id] = simplified_article_fields\n",
    "\n",
    "            final_json_output = json.dumps(simplified_articles, indent=2, ensure_ascii=False)\n",
    "            df = pd.DataFrame(simplified_articles).T\n",
    "            df = df[df['article_type'] == 1]\n",
    "            df = df.reindex(columns=columns_to_keep)\n",
    "            df = rename_df(df)\n",
    "            df = df.reset_index(drop=True)\n",
    "            with open(f\"db/{filename.split('.')[0].split('/')[-1]}.json\", \"w\", encoding=\"utf-8\") as out:\n",
    "                out.write(final_json_output)\n",
    "\n",
    "            return df\n",
    "\n",
    "        except json.JSONDecodeError as e:\n",
    "            print(f\"Error decoding JSON part: {e}\")\n",
    "        except KeyError as e:\n",
    "            print(f\"Error navigating the data structure, missing key: {e}\")\n",
    "        except Exception as e:\n",
    "            print(f\"An unexpected error occurred: {e}\")\n",
    "\n",
    "    else:\n",
    "        print(\"Could not find the relevant data structure '[2, [{...}]]' in the input string.\")\n",
    "\n",
    "\n",
    "def create_dir_if_absent(dir: str) -> None:\n",
    "    if not os.path.exists(dir):\n",
    "        os.makedirs(dir)\n",
    "\n",
    "\n",
    "YEAR = \"2025-2026-Q1\"\n",
    "df = parse(f\"db/raw/{YEAR}.txt\", ['name', 'price_out', 'format', 'type', 'degree', 'available'])\n",
    "\n",
    "df = df[df[\"Available\"] == True]\n",
    "df[\"Ratio\"] = (df['Degree'] * df['Volume']) / df['Price']\n",
    "\n",
    "df = df.sort_values(by=[\"Ratio\", \"Price\", \"Volume\"], ascending=[False, True, False])\n",
    "df = df.reset_index(drop=True)\n",
    "df.index.name = \"Rank\"\n",
    "df.index = df.index + 1\n",
    "\n",
    "create_dir_if_absent(f\"csv/{YEAR}\")\n",
    "df.to_csv(f\"csv/{YEAR}/ranker.csv\")"
   ]
  },
  {
   "cell_type": "markdown",
   "metadata": {},
   "source": [
    "# Top 20, any type of beer"
   ]
  },
  {
   "cell_type": "code",
   "execution_count": null,
   "metadata": {},
   "outputs": [],
   "source": [
    "display_top(df[df[\"Volume\"] < 75])"
   ]
  },
  {
   "cell_type": "markdown",
   "metadata": {},
   "source": [
    "# Top 20, blonde beers"
   ]
  },
  {
   "cell_type": "code",
   "execution_count": null,
   "metadata": {},
   "outputs": [],
   "source": [
    "blonde_beers = display_top(df[(df[\"Type\"] == \"Blonde\") & (df[\"Volume\"] < 75)])\n",
    "blonde_beers.to_csv(f\"csv/{YEAR}/blonde_ranker.csv\")\n",
    "blonde_beers"
   ]
  },
  {
   "cell_type": "markdown",
   "metadata": {},
   "source": [
    "# Top 20, ambrées"
   ]
  },
  {
   "cell_type": "code",
   "execution_count": null,
   "metadata": {},
   "outputs": [],
   "source": [
    "amber_beers = display_top(df[(df[\"Type\"] == \"Ambrée\") & (df[\"Volume\"] < 75)])\n",
    "amber_beers.to_csv(f\"csv/{YEAR}/amber_ranker.csv\")\n",
    "amber_beers"
   ]
  },
  {
   "cell_type": "markdown",
   "metadata": {},
   "source": [
    "# Top trappistes"
   ]
  },
  {
   "cell_type": "code",
   "execution_count": null,
   "metadata": {},
   "outputs": [],
   "source": [
    "trapist_beers = display_top(df[(df[\"Type\"] == \"Trappiste\") & (df[\"Volume\"] < 75)])\n",
    "trapist_beers.to_csv(f\"csv/{YEAR}/trapist_ranker.csv\")\n",
    "trapist_beers"
   ]
  },
  {
   "cell_type": "markdown",
   "metadata": {},
   "source": [
    "# Top 20, brunes"
   ]
  },
  {
   "cell_type": "code",
   "execution_count": null,
   "metadata": {},
   "outputs": [],
   "source": [
    "brown_beers = display_top(df[(df[\"Type\"] == \"Brune\") & (df[\"Volume\"] < 75)])\n",
    "brown_beers.to_csv(f\"csv/{YEAR}/brown_ranker.csv\")\n",
    "brown_beers"
   ]
  },
  {
   "cell_type": "markdown",
   "metadata": {},
   "source": [
    "# Top 20, fruitées"
   ]
  },
  {
   "cell_type": "code",
   "execution_count": null,
   "metadata": {},
   "outputs": [],
   "source": [
    "fruit_beers = display_top(df[(df[\"Type\"] == \"Fruitée\") & (df[\"Volume\"] < 75)])\n",
    "fruit_beers.to_csv(f\"csv/{YEAR}/fruit_ranker.csv\")\n",
    "fruit_beers"
   ]
  },
  {
   "cell_type": "markdown",
   "metadata": {},
   "source": [
    "# Top blanches"
   ]
  },
  {
   "cell_type": "code",
   "execution_count": null,
   "metadata": {},
   "outputs": [],
   "source": [
    "white_beers = display_top(df[(df[\"Type\"] == \"Blanche\") & (df[\"Volume\"] < 75)])\n",
    "white_beers.to_csv(f\"csv/{YEAR}/white_ranker.csv\")\n",
    "white_beers"
   ]
  },
  {
   "cell_type": "markdown",
   "metadata": {},
   "source": [
    "# Top 75cl"
   ]
  },
  {
   "cell_type": "code",
   "execution_count": null,
   "metadata": {},
   "outputs": [],
   "source": [
    "big = display_top(df[df[\"Volume\"]  == 75])\n",
    "big.to_csv(f\"csv/{YEAR}/75cl_ranker.csv\")\n",
    "big"
   ]
  },
  {
   "cell_type": "markdown",
   "metadata": {},
   "source": [
    "# Top 50 du rat (à plus que 5° quand même (big up à Hunter))"
   ]
  },
  {
   "cell_type": "code",
   "execution_count": null,
   "metadata": {},
   "outputs": [],
   "source": [
    "rat = display_top(df[(df[\"Degree\"] >= 5) & (df[\"Volume\"] < 75) & (df[\"Price\"] <= 2.5)], n=50)\n",
    "rat = rat.sort_values(by=[\"Ratio\", \"Volume\"], ascending=[False, True])\n",
    "rat"
   ]
  }
 ],
 "metadata": {
  "kernelspec": {
   "display_name": ".venv",
   "language": "python",
   "name": "python3"
  },
  "language_info": {
   "codemirror_mode": {
    "name": "ipython",
    "version": 3
   },
   "file_extension": ".py",
   "mimetype": "text/x-python",
   "name": "python",
   "nbconvert_exporter": "python",
   "pygments_lexer": "ipython3",
   "version": "3.9.21"
  }
 },
 "nbformat": 4,
 "nbformat_minor": 4
}
